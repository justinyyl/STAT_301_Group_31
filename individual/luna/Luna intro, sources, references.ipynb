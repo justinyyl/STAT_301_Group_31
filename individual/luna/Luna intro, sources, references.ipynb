{
 "cells": [
  {
   "cell_type": "markdown",
   "id": "d41b461c-a3d7-4c5f-8ede-027ccccd2e7c",
   "metadata": {},
   "source": [
    "# Introduction"
   ]
  },
  {
   "cell_type": "markdown",
   "id": "b4dfa950-b210-41ef-b4c6-c4aba178450f",
   "metadata": {},
   "source": [
    "_Citations to add afterwards_\n",
    "\n",
    "Diabetes affects approximately 830 million people worldwide, with the majority living in low- and middle-income countries, and more than half live untreated (https://www.who.int/health-topics/diabetes#tab=tab_1). This poses a significant concern because Type 2 diabetes, the most common type, can increase the risk of developing complications, such as cardiovascular disease, stroke, and chronic kidney disease (https://www.heart.org/en/health-topics/diabetes/diabetes-complications-and-risks). Also, the number of people with diabetes and untreated diabetes have been steadily increasing over the past decades, which is why early identification and prevention is important. \n",
    "\n",
    "The Pima Indians, an indigenous community, have faced significant challenges in accessing adequate healthcare due to poor resources, low income, and unfavourable economic conditions, which have led to delayed detection and management of chronic illnesses, particularly diabetes (https://diabetesjournals.org/care/article/16/1/216/20743/Determinants-of-Diabetes-Mellitus-in-the-Pima).\n",
    "\n",
    "Our project focuses on predicting diabetes using health metrics from a dataset by the National Institute of Diabetes and Digestive and Kidney Diseases, made up female patients aged 21+ of Pima Indian heritage. \n",
    "\n",
    "Our main question is: Which variables best predict diabetes, and to what extent do these metrics contribute to the likelihood of a diagnosis? \n",
    "\n",
    "Another question to understand the depth, is: Which specific predictors (e.g. Glucose, BMI) have the strongest association with diabetes, and how do these align with findings in existing literature?\n",
    "- _or we can reference a specific literature that says a specific predictor predicts diabetes best_\n",
    "\n",
    "To answer these questions, we will use logistic regression for binary classifications, exploring valuable insights and creating a model identifying the most significant predictors."
   ]
  },
  {
   "cell_type": "markdown",
   "id": "408a3c1d-5958-47ec-91b1-693b57188097",
   "metadata": {},
   "source": [
    ">\n",
    "> \n",
    ">\n",
    ">\n",
    ">\n",
    ">\n",
    ">\n",
    ">\n",
    ">\n",
    ">"
   ]
  },
  {
   "cell_type": "markdown",
   "id": "6f234d55-c359-4d76-87fe-27d96a88174f",
   "metadata": {},
   "source": [
    "**POSSIBLE RESEARCH:**\n",
    "- https://www.heart.org/en/health-topics/diabetes/diabetes-complications-and-risks\n",
    "    - \"Type 2 diabetes can increase your risk of developing complications, such as cardiovascular disease, atherosclerosis, stroke, peripheral artery disease and chronic kidney disease.\"\n",
    "    - _maybe include this in the intro_\n",
    "- https://idf.org/about-diabetes/diabetes-facts-figures/\n",
    "    - International Diabetes Federation\n",
    "    - \"Diabetes facts and figures show the growing global burden for individuals, families, and countries. The IDF Diabetes Atlas (2021) reports that 10.5% of the adult population (20-79 years) has diabetes, with almost half unaware that they are living with the condition.\"\n",
    "    - \"By 2045, IDF projections show that 1 in 8 adults, approximately 783 million, will be living with diabetes, an increase of 46%.\"\n",
    "- https://www.who.int/health-topics/diabetes#tab=tab_1\n",
    "    - \"About 830 million people worldwide have diabetes, the majority living in low-and middle-income countries. More than half of people living with diabetes are not receiving treatment. Both the number of people with diabetes and the number of people with untreated diabetes have been steadily increasing over the past decades.\"\n",
    "- https://diabetesjournals.org/care/article/16/1/216/20743/Determinants-of-Diabetes-Mellitus-in-the-Pima\n",
    "    - Conclusion: \"The Pimas and many other American Indian populations suffer from a high incidence of diabetes and its characteristic disabling or fatal complications, and would benefit from continued research on the pathogenesis and prevention of the disease.\"\n",
    "- https://dl.acm.org/doi/abs/10.1145/3644116.3644168\n",
    "    - \"Diabetes mellitus is a widespread global health issue with significant consequences and economic burdens. The Pima Indians, an indigenous community residing in certain regions, have faced significant challenges in accessing adequate healthcare due to poor resources, low income, and unfavorable economic conditions. Consequently, these barriers have led to delayed detection and management of chronic illnesses, particularly diabetes.\"\n",
    "    - \"Key health indicators like age, body mass index (BMI), glucose level, and diabetes pedigree function were considered as predictors. And from the regression tree, glucose level and BMI might be more strongly associated with the likelihood of having diabetes outcome.\"\n",
    "    - used binomial logistic regression and regression trees \n",
    "    - must get access to it, but we can include this information from the abstract ^^"
   ]
  },
  {
   "cell_type": "markdown",
   "id": "59d1dd0b-6014-4189-9d65-7e6181a0e113",
   "metadata": {},
   "source": [
    "# References"
   ]
  },
  {
   "cell_type": "markdown",
   "id": "73f599d7-e7f8-437e-94d0-548a580e78fa",
   "metadata": {},
   "source": []
  },
  {
   "cell_type": "code",
   "execution_count": null,
   "id": "2e00edff-2d7b-4479-bf91-445529e9da1d",
   "metadata": {},
   "outputs": [],
   "source": []
  }
 ],
 "metadata": {
  "kernelspec": {
   "display_name": "R",
   "language": "R",
   "name": "ir"
  },
  "language_info": {
   "codemirror_mode": "r",
   "file_extension": ".r",
   "mimetype": "text/x-r-source",
   "name": "R",
   "pygments_lexer": "r",
   "version": "4.3.3"
  }
 },
 "nbformat": 4,
 "nbformat_minor": 5
}
