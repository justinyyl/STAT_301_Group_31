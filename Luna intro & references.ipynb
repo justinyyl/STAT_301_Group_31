{
 "cells": [
  {
   "cell_type": "markdown",
   "id": "d41b461c-a3d7-4c5f-8ede-027ccccd2e7c",
   "metadata": {},
   "source": [
    "# Introduction"
   ]
  },
  {
   "cell_type": "markdown",
   "id": "b4dfa950-b210-41ef-b4c6-c4aba178450f",
   "metadata": {},
   "source": [
    "Diabetes affects approximately 830 million people worldwide, with the majority living in low- and middle-income countries, and more than half live untreated (_Diabetes_, 2024). This poses a significant health concern because Type 2 diabetes, the most common type, can increase the risk of developing complications, such as cardiovascular disease, stroke, and chronic kidney disease (_Diabetes complications and risks_, 2024). \n",
    "\n",
    "One disproportionately affected population is the Pima Indians, an indigenous community residing in a hot desert environment in Arizona, USA, who have faced significant challenges in accessing adequate healthcare due to poor resources, low income, and unfavourable economic conditions, leading to delayed detection and inadequate management of chronic illnesses, particularly diabetes (Guan et al., 2024). Systematic glucose-tolerance tests conducted on this population revealed that the prevalence of diabetes mellitus is 50% among individuals aged 35 and older, making it the highest prevalence of diabetes ever recorded (Bennett et al., 2003). Additionally, earlier research by Knowler et al. (1993) on the Pima Indians showed that worsening glucose tolerance, especially in those with impaired glucose tolerance, is associated with \"markedly higher incidence rates of diabetes\". \n",
    "\n",
    "Therefore, given the increasing number of incidents and the fatal complications associated with untreated diabetes, continued research into the identification and prevention of diabetes is critical for improving health among the Pima Indians and other high-risk populations.\n",
    "\n",
    "To explore this further, our project focuses on predicting diabetes using health metrics, such as Glucose and BMI, from a dataset provided by the National Institute of Diabetes and Digestive and Kidney Diseases, made up female patients aged 21+ of Pima Indian heritage, a group with a notably high prevalence of diabetes. \n",
    "\n",
    "Our primary question is: Which variables best predict diabetes, and to what extent do these metrics contribute to the likelihood of a diagnosis? Additionally, we aim to explore which specific predictors have the strongest association with diabetes, and how do these align with existing findings. \n",
    "\n",
    "To answer these questions, we will use logistic regression for binary classifications, exploring valuable insights into diabetes risk factors and and creating a model identifying the most significant predictors."
   ]
  },
  {
   "cell_type": "markdown",
   "id": "408a3c1d-5958-47ec-91b1-693b57188097",
   "metadata": {},
   "source": [
    ">\n",
    "> \n",
    ">\n",
    ">\n",
    ">\n",
    ">\n",
    ">\n",
    ">\n",
    ">\n",
    ">"
   ]
  },
  {
   "cell_type": "markdown",
   "id": "59d1dd0b-6014-4189-9d65-7e6181a0e113",
   "metadata": {},
   "source": [
    "# References"
   ]
  },
  {
   "cell_type": "markdown",
   "id": "73f599d7-e7f8-437e-94d0-548a580e78fa",
   "metadata": {},
   "source": [
    "Bennett, P. H., Burch, T. A., & Miller, M. (2003, August 25). _Diabetes mellitus in American (PIMA) Indians_. The Lancet. https://www.sciencedirect.com/science/article/pii/S0140673671923038 \n",
    "\n",
    "_Diabetes complications and risks_. American Heart Association. (2024, April 2). https://www.heart.org/en/health-topics/diabetes/diabetes-complications-and-risks \n",
    "\n",
    "_Diabetes_. World Health Organization. (2024). https://www.who.int/health-topics/diabetes#tab=tab_1 \n",
    "\n",
    "Guan, Y., Tsai, C. J., & Zhang, S. (2024, April 5). _Research on Diabetes Prediction Model of Pima Indian Females_. Association for Computing Machinery. https://dl.acm.org/doi/abs/10.1145/3644116.3644168 \n",
    "\n",
    "Knowler, W. C., Saad, M. F., Pettitt, D. J., Nelson, R. G., & Bennett, P. H. (1993, January 1). _Determinants of Diabetes Mellitus in the Pima Indians_. American Diabetes Association. https://diabetesjournals.org/care/article/16/1/216/20743/Determinants-of-Diabetes-Mellitus-in-the-Pima "
   ]
  },
  {
   "cell_type": "code",
   "execution_count": null,
   "id": "2e00edff-2d7b-4479-bf91-445529e9da1d",
   "metadata": {},
   "outputs": [],
   "source": []
  }
 ],
 "metadata": {
  "kernelspec": {
   "display_name": "R",
   "language": "R",
   "name": "ir"
  },
  "language_info": {
   "codemirror_mode": "r",
   "file_extension": ".r",
   "mimetype": "text/x-r-source",
   "name": "R",
   "pygments_lexer": "r",
   "version": "4.3.3"
  }
 },
 "nbformat": 4,
 "nbformat_minor": 5
}
